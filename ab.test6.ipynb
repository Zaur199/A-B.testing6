{
 "cells": [
  {
   "cell_type": "markdown",
   "id": "f3fa8e14",
   "metadata": {},
   "source": [
    "# ЗАДАЧА 1"
   ]
  },
  {
   "cell_type": "markdown",
   "id": "2b62a570",
   "metadata": {},
   "source": [
    "Продакт на главной mail.ru решил протестировать в рекомендательной ленте контента вместо карточек со статьями видеоплеер с короткими видео. Нынешний таймспент на юзера в день в среднем равен 25 минут, а стандартная ошибка (SD) равна 156. Мы предполагаем, что в новой версии таймспент на юзера в день изменится на 10%. Средний трафик 20000 человек в день. Посчитайте сколько дней необходимо держать эксперимент при alpha = 5% и beta = 20% ."
   ]
  },
  {
   "cell_type": "markdown",
   "id": "e28478d7",
   "metadata": {},
   "source": [
    "## РЕШЕНИЕ"
   ]
  },
  {
   "cell_type": "code",
   "execution_count": 18,
   "id": "c236ddae",
   "metadata": {},
   "outputs": [],
   "source": [
    "import statsmodels.stats.power as smp"
   ]
  },
  {
   "cell_type": "code",
   "execution_count": 54,
   "id": "e1bed726",
   "metadata": {},
   "outputs": [],
   "source": [
    "# Уровень значимости alpha = 0.05, мощность 1-beta = 0.8 (то есть beta = 0.2).\n",
    "alpha = 0.05\n",
    "beta = 0.2"
   ]
  },
  {
   "cell_type": "code",
   "execution_count": 55,
   "id": "0c891f9e",
   "metadata": {},
   "outputs": [],
   "source": [
    "# Вычисляем новый средний таймспент\n",
    "new_mean = 1.1 * 25"
   ]
  },
  {
   "cell_type": "code",
   "execution_count": 56,
   "id": "fefaf970",
   "metadata": {},
   "outputs": [],
   "source": [
    "# Вычисляем разницу между средними значениями\n",
    "d = new_mean - 25"
   ]
  },
  {
   "cell_type": "code",
   "execution_count": 57,
   "id": "386d8fe8",
   "metadata": {},
   "outputs": [],
   "source": [
    "# Рассчитываем минимальный размер выборки для каждой группы\n",
    "sd = 156  # стандартная ошибка\n",
    "n = smp.tt_ind_solve_power(effect_size=d / sd, nobs1=None, alpha=alpha, power=1-beta, ratio=1, alternative='two-sided')\n",
    "n_group = round(n / 2)"
   ]
  },
  {
   "cell_type": "code",
   "execution_count": 58,
   "id": "923639cb",
   "metadata": {},
   "outputs": [],
   "source": [
    "# Количество пользователей, которые посетят сайт за период эксперимента\n",
    "traffic = 20000"
   ]
  },
  {
   "cell_type": "code",
   "execution_count": 59,
   "id": "50b6ea00",
   "metadata": {},
   "outputs": [],
   "source": [
    "# Длительность эксперимента в днях\n",
    "duration = n_group / traffic"
   ]
  },
  {
   "cell_type": "code",
   "execution_count": 60,
   "id": "48d0da9f",
   "metadata": {},
   "outputs": [
    {
     "name": "stdout",
     "output_type": "stream",
     "text": [
      "Минимальное количество юзеров в каждой группе: 30562\n",
      "Продолжительность эксперимента в днях: 1.5281\n"
     ]
    }
   ],
   "source": [
    "print('Минимальное количество юзеров в каждой группе:', n_group)\n",
    "print('Продолжительность эксперимента в днях:', duration)"
   ]
  },
  {
   "cell_type": "markdown",
   "id": "91418b1e",
   "metadata": {},
   "source": [
    "Таким образом, чтобы достичь заданных уровней значимости и мощности эксперимента, необходимо провести эксперимент в течение около 1.5 дня"
   ]
  },
  {
   "cell_type": "markdown",
   "id": "c6c080ff",
   "metadata": {},
   "source": [
    "# ЗАДАЧА2"
   ]
  },
  {
   "cell_type": "markdown",
   "id": "9223cca1",
   "metadata": {},
   "source": [
    "Наша продуктовая команда в ecommerce магазине планирует запустить тест, направленный на ускорение загрузки сайта. Одна из основных метрик bounce rate в GA = 40%. Мы предполагаем, что при оптимизации сайта она изменится минимум на 20%.Средний трафик 4000 человек в день. Посчитайте сколько нам нужно дней держать эксперимент при alpha = 5% и beta = 20%"
   ]
  },
  {
   "cell_type": "markdown",
   "id": "94c162d8",
   "metadata": {},
   "source": [
    "## РЕШЕНИЕ"
   ]
  },
  {
   "cell_type": "code",
   "execution_count": 32,
   "id": "c116cddc",
   "metadata": {},
   "outputs": [],
   "source": [
    "import statsmodels.stats.api as sms"
   ]
  },
  {
   "cell_type": "code",
   "execution_count": 33,
   "id": "e68d7948",
   "metadata": {},
   "outputs": [],
   "source": [
    "# Уровень значимости alpha = 0.05, мощность 1-beta = 0.8 (то есть beta = 0.2).\n",
    "alpha = 0.05\n",
    "beta = 0.2"
   ]
  },
  {
   "cell_type": "code",
   "execution_count": 40,
   "id": "c4a9d662",
   "metadata": {},
   "outputs": [],
   "source": [
    "# Вычисляем текущее значение bounce rate и новое значение при изменении метрики на 20% \n",
    "current_bounce_rate = 0.4\n",
    "new_bounce_rate = 0.4 * 1.2"
   ]
  },
  {
   "cell_type": "code",
   "execution_count": 41,
   "id": "8706e31d",
   "metadata": {},
   "outputs": [],
   "source": [
    "# Вычисляем разницу между средними значениями\n",
    "d = current_bounce_rate - new_bounce_rate"
   ]
  },
  {
   "cell_type": "code",
   "execution_count": 42,
   "id": "16e43880",
   "metadata": {},
   "outputs": [],
   "source": [
    "# Рассчитываем минимальный размер выборки для каждой группы\n",
    "n = sms.NormalIndPower().solve_power(effect_size=d, alpha=alpha, power=1-beta, ratio=1)"
   ]
  },
  {
   "cell_type": "code",
   "execution_count": 43,
   "id": "2559f083",
   "metadata": {},
   "outputs": [],
   "source": [
    "# Количество пользователей, которые посетят сайт за период эксперимента\n",
    "traffic = 4000"
   ]
  },
  {
   "cell_type": "code",
   "execution_count": 44,
   "id": "c1dc81b9",
   "metadata": {},
   "outputs": [],
   "source": [
    "# Длительность эксперимента в днях\n",
    "duration = n / traffic"
   ]
  },
  {
   "cell_type": "code",
   "execution_count": 45,
   "id": "f74f6f55",
   "metadata": {},
   "outputs": [
    {
     "name": "stdout",
     "output_type": "stream",
     "text": [
      "Минимальное количество юзеров в каждой группе: 2453\n",
      "Продолжительность эксперимента в днях: 1\n"
     ]
    }
   ],
   "source": [
    "print('Минимальное количество юзеров в каждой группе:', round(n))\n",
    "print('Продолжительность эксперимента в днях:', round(duration))"
   ]
  },
  {
   "cell_type": "markdown",
   "id": "2cf32e13",
   "metadata": {},
   "source": [
    "Таким образом, чтобы достичь заданных уровней значимости и мощности эксперимента, необходимо провести эксперимент в течение 1 дня."
   ]
  }
 ],
 "metadata": {
  "kernelspec": {
   "display_name": "Python 3 (ipykernel)",
   "language": "python",
   "name": "python3"
  },
  "language_info": {
   "codemirror_mode": {
    "name": "ipython",
    "version": 3
   },
   "file_extension": ".py",
   "mimetype": "text/x-python",
   "name": "python",
   "nbconvert_exporter": "python",
   "pygments_lexer": "ipython3",
   "version": "3.9.13"
  }
 },
 "nbformat": 4,
 "nbformat_minor": 5
}
